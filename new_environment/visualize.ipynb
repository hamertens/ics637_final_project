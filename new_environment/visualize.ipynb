{
 "cells": [
  {
   "cell_type": "code",
   "execution_count": 1,
   "metadata": {},
   "outputs": [],
   "source": [
    "import pandas as pd\n",
    "\n",
    "df = pd.read_csv(\"output_data/trajectory.csv\")\n",
    "trajectory =df.values"
   ]
  },
  {
   "cell_type": "code",
   "execution_count": 2,
   "metadata": {},
   "outputs": [],
   "source": [
    "import numpy as np\n",
    "# Define obstacles\n",
    "obstacles = [\n",
    "    {\"type\": \"circle\", \"center\": (5, -2.5), \"radius\": 2},\n",
    "    {\"type\": \"circle\", \"center\": (-5, -5), \"radius\": 1.5},\n",
    "    {\"type\": \"wall\", \"x_range\": (-10, -7.5), \"y_pos\": 0},\n",
    "    {\"type\": \"wall\", \"x_range\": (-5, 3), \"y_pos\": 3},\n",
    "\n",
    "]"
   ]
  },
  {
   "cell_type": "code",
   "execution_count": null,
   "metadata": {},
   "outputs": [],
   "source": [
    "# Plot the trajectory\n",
    "import matplotlib.pyplot as plt\n",
    "\n",
    "\n",
    "\n",
    "plt.figure()\n",
    "plt.plot(trajectory[:, 0], trajectory[:, 1], marker='o', label=\"Agent Path\")\n",
    "plt.scatter(2.5, 10, color='red', label=\"Goal\", marker='*', s=200)\n",
    "# xlimit\n",
    "plt.xlim(-15, 15)\n",
    "# Plot obstacles\n",
    "for obstacle in obstacles:\n",
    "    if obstacle[\"type\"] == \"circle\":\n",
    "        circle = plt.Circle(\n",
    "            obstacle[\"center\"], obstacle[\"radius\"], color='blue', alpha=0.5\n",
    "        )\n",
    "        plt.gca().add_artist(circle)\n",
    "    elif obstacle[\"type\"] == \"wall\":\n",
    "        plt.plot(\n",
    "            obstacle[\"x_range\"],\n",
    "            [obstacle[\"y_pos\"], obstacle[\"y_pos\"]],\n",
    "            color=\"brown\",\n",
    "            linewidth=3,\n",
    "        )\n",
    "# ylimit\n",
    "# plot black box with corners at (-10, -10) and (10, 10), (-10,10) and (10, -10) \n",
    "plt.plot([-10, 10], [-10, -10], color='black')\n",
    "plt.plot([-10, 10], [10, 10], color='black')\n",
    "plt.plot([-10, -10], [-10, 10], color='black')\n",
    "plt.plot([10, 10], [-10, 10], color='black')\n",
    "plt.ylim(-15, 15)\n",
    "plt.xlabel(\"X Position\")\n",
    "plt.ylabel(\"Y Position\")\n",
    "plt.title(\"Agent Trajectory\")\n",
    "plt.legend()\n",
    "plt.grid()\n",
    "plt.show()"
   ]
  }
 ],
 "metadata": {
  "kernelspec": {
   "display_name": "jupyter",
   "language": "python",
   "name": "python3"
  },
  "language_info": {
   "codemirror_mode": {
    "name": "ipython",
    "version": 3
   },
   "file_extension": ".py",
   "mimetype": "text/x-python",
   "name": "python",
   "nbconvert_exporter": "python",
   "pygments_lexer": "ipython3",
   "version": "3.12.4"
  }
 },
 "nbformat": 4,
 "nbformat_minor": 2
}
